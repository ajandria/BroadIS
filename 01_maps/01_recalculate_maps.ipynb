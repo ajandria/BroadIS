{
 "cells": [
  {
   "cell_type": "markdown",
   "id": "992247c3",
   "metadata": {},
   "source": [
    "# Project aiming to recalculate the MAPS score using gnomAD v3 data"
   ]
  },
  {
   "cell_type": "markdown",
   "id": "dd40f7d7",
   "metadata": {},
   "source": [
    "### MAPS (mutability-adjusted proportion of singletons) - the score measures the selection against classes of variants in a population (assumes that the more damaging classes of variants are kept at lower frequencies by natural selection).\n",
    "\n",
    "In the most basic way, higher values of MAPS indicate increased deleteriousness/increased potential to posess low-frequency variants which, according to the assumption of natrual selection of such low frequency variants, increase the morbitidy by inducing heavily impacting diseases/symptoms/processes onto the host overall well-being.    (\"Higher values indicate an enrichment of lower frequency variants, which suggests increased deleteriousness\", gnomAD paper).\n",
    "\n",
    "Such deleterious variants (which as said are low frequency) increase an individual’s susceptibility or predisposition to a certain disease or disorder. When such a variant (or mutation) is inherited, development of symptoms is more likely, but not certain. Also called disease-causing mutation, pathogenic variant, predisposing mutation, and susceptibility gene mutation.\n",
    "\n",
    "And so in summary, the MAPS score may tell that in a given functionall region this particullar population has an increased deleteriousness (described above). This score is not comparable between cohorts."
   ]
  },
  {
   "cell_type": "markdown",
   "id": "304927dd",
   "metadata": {},
   "source": [
    "### Basic step-by-step guide to calculate MAPS:\n",
    "    1) Divide variants into functional classes (this is VEP's `consequence`);\n",
    "    2) Acquire the number of singletons in each of the class and the total number of mutations and calculate the proportions;\n",
    "    3) To correct for variant's mutational class (transitions, transversions, CpGs), one shall also acquire the singleton proportion but only for synonymous functional class of variants;\n",
    "    4) Train a linear model on synonymous variation weighted by number of observations in each mutational context (this is the step that allows to correct MAPS score for transitions as they are more common than transversions; mutation rates and estimates downloaded from supplementary_data_10 gnomAD paper);\n",
    "    5) Use the trained model to regress the expected proportion singleton for each functional variant class;\n",
    "    6) Acquiring the expected proportion of singletons for each functional class - MAPS? \n",
    "   **(6) This is called MAPS in supplementary, but in the code a subtraction is done?? to do**\n",
    "    \n",
    "    "
   ]
  },
  {
   "cell_type": "markdown",
   "id": "fb41f1a8",
   "metadata": {},
   "source": [
    "## 1. Import packages"
   ]
  },
  {
   "cell_type": "code",
   "execution_count": 1,
   "id": "371a0853",
   "metadata": {},
   "outputs": [],
   "source": [
    "import hail as hl\n",
    "from bokeh.io import output_notebook,show"
   ]
  },
  {
   "cell_type": "markdown",
   "id": "aadd6beb",
   "metadata": {},
   "source": [
    "## 2. Import data"
   ]
  },
  {
   "cell_type": "code",
   "execution_count": 2,
   "id": "9f9e1265",
   "metadata": {},
   "outputs": [
    {
     "name": "stderr",
     "output_type": "stream",
     "text": [
      "Initializing Hail with default parameters...\n"
     ]
    },
    {
     "name": "stdout",
     "output_type": "stream",
     "text": [
      "2022-09-18 13:46:04 WARN  Utils:69 - Your hostname, MacBook-Pro.local resolves to a loopback address: 127.0.0.1; using 192.168.0.181 instead (on interface en0)\n",
      "2022-09-18 13:46:04 WARN  Utils:69 - Set SPARK_LOCAL_IP if you need to bind to another address\n"
     ]
    },
    {
     "name": "stderr",
     "output_type": "stream",
     "text": [
      "WARNING: An illegal reflective access operation has occurred\n",
      "WARNING: Illegal reflective access by org.apache.spark.unsafe.Platform (file:/Users/adrian/opt/anaconda3/envs/hail/lib/python3.10/site-packages/pyspark/jars/spark-unsafe_2.12-3.1.3.jar) to constructor java.nio.DirectByteBuffer(long,int)\n",
      "WARNING: Please consider reporting this to the maintainers of org.apache.spark.unsafe.Platform\n",
      "WARNING: Use --illegal-access=warn to enable warnings of further illegal reflective access operations\n",
      "WARNING: All illegal access operations will be denied in a future release\n"
     ]
    },
    {
     "name": "stdout",
     "output_type": "stream",
     "text": [
      "2022-09-18 13:46:05 WARN  NativeCodeLoader:60 - Unable to load native-hadoop library for your platform... using builtin-java classes where applicable\n"
     ]
    },
    {
     "name": "stderr",
     "output_type": "stream",
     "text": [
      "Setting default log level to \"WARN\".\n",
      "To adjust logging level use sc.setLogLevel(newLevel). For SparkR, use setLogLevel(newLevel).\n"
     ]
    },
    {
     "name": "stdout",
     "output_type": "stream",
     "text": [
      "2022-09-18 13:46:07 WARN  Utils:69 - Service 'SparkUI' could not bind on port 4040. Attempting port 4041.\n"
     ]
    },
    {
     "name": "stderr",
     "output_type": "stream",
     "text": [
      "Running on Apache Spark version 3.1.3\n",
      "SparkUI available at http://192.168.0.181:4041\n",
      "Welcome to\n",
      "     __  __     <>__\n",
      "    / /_/ /__  __/ /\n",
      "   / __  / _ `/ / /\n",
      "  /_/ /_/\\_,_/_/_/   version 0.2.99-57537fea08d4\n",
      "LOGGING: writing to /Users/adrian/BroadIS/01_maps/hail-20220918-1346-0.2.99-57537fea08d4.log\n"
     ]
    }
   ],
   "source": [
    "ht = hl.read_table('gs://gcp-public-data--gnomad/release/3.1.2/ht/genomes/gnomad.genomes.v3.1.2.sites.ht')"
   ]
  },
  {
   "cell_type": "code",
   "execution_count": 16,
   "id": "a84ebad5",
   "metadata": {},
   "outputs": [
    {
     "name": "stderr",
     "output_type": "stream",
     "text": [
      "2022-09-18 23:23:40 Hail: INFO: Reading table to impute column types\n",
      "2022-09-18 23:23:41 Hail: INFO: Finished type imputation\n",
      "  Loading field 'context' as type str (imputed)\n",
      "  Loading field 'ref' as type str (imputed)\n",
      "  Loading field 'alt' as type str (imputed)\n",
      "  Loading field 'methylation_level' as type int32 (imputed)\n",
      "  Loading field 'mu_snp' as type float64 (imputed)\n"
     ]
    }
   ],
   "source": [
    "ht_mu = hl.import_table('data/supplementary_dataset_10_mutation_rates.tsv.gz',\n",
    "                delimiter='\\t', impute=True, force_bgz=True)"
   ]
  },
  {
   "cell_type": "markdown",
   "id": "0b28730d",
   "metadata": {},
   "source": [
    "## 3. Retrieve the variant annotations\n",
    "\n",
    "### Also subset the data to draft locally"
   ]
  },
  {
   "cell_type": "code",
   "execution_count": 3,
   "id": "06d77d18",
   "metadata": {},
   "outputs": [
    {
     "data": {
      "text/plain": [
       "100000"
      ]
     },
     "execution_count": 3,
     "metadata": {},
     "output_type": "execute_result"
    }
   ],
   "source": [
    "ht = ht.head(100000)\n",
    "\n",
    "ht.count()"
   ]
  },
  {
   "cell_type": "code",
   "execution_count": 28,
   "id": "98f5366c",
   "metadata": {},
   "outputs": [
    {
     "name": "stdout",
     "output_type": "stream",
     "text": [
      "----------------------------------------\n",
      "Global fields:\n",
      "    'freq_meta': array<dict<str, str>> \n",
      "    'freq_index_dict': dict<str, int32> \n",
      "    'faf_index_dict': dict<str, int32> \n",
      "    'faf_meta': array<dict<str, str>> \n",
      "    'vep_version': str \n",
      "    'vep_csq_header': str \n",
      "    'dbsnp_version': str \n",
      "    'filtering_model': struct {\n",
      "        model_name: str, \n",
      "        score_name: str, \n",
      "        snv_cutoff: struct {\n",
      "            bin: float64, \n",
      "            min_score: float64\n",
      "        }, \n",
      "        indel_cutoff: struct {\n",
      "            bin: float64, \n",
      "            min_score: float64\n",
      "        }, \n",
      "        model_id: str, \n",
      "        snv_training_variables: array<str>, \n",
      "        indel_training_variables: array<str>\n",
      "    } \n",
      "    'age_distribution': struct {\n",
      "        bin_edges: array<float64>, \n",
      "        bin_freq: array<int32>, \n",
      "        n_smaller: int32, \n",
      "        n_larger: int32\n",
      "    } \n",
      "    'freq_sample_count': array<int32> \n",
      "----------------------------------------\n",
      "Row fields:\n",
      "    'locus': locus<GRCh38> \n",
      "    'alleles': array<str> \n",
      "    'freq': array<struct {\n",
      "        AC: int32, \n",
      "        AF: float64, \n",
      "        AN: int32, \n",
      "        homozygote_count: int32\n",
      "    }> \n",
      "    'raw_qual_hists': struct {\n",
      "        gq_hist_all: struct {\n",
      "            bin_edges: array<float64>, \n",
      "            bin_freq: array<int64>, \n",
      "            n_smaller: int64, \n",
      "            n_larger: int64\n",
      "        }, \n",
      "        dp_hist_all: struct {\n",
      "            bin_edges: array<float64>, \n",
      "            bin_freq: array<int64>, \n",
      "            n_smaller: int64, \n",
      "            n_larger: int64\n",
      "        }, \n",
      "        gq_hist_alt: struct {\n",
      "            bin_edges: array<float64>, \n",
      "            bin_freq: array<int64>, \n",
      "            n_smaller: int64, \n",
      "            n_larger: int64\n",
      "        }, \n",
      "        dp_hist_alt: struct {\n",
      "            bin_edges: array<float64>, \n",
      "            bin_freq: array<int64>, \n",
      "            n_smaller: int64, \n",
      "            n_larger: int64\n",
      "        }, \n",
      "        ab_hist_alt: struct {\n",
      "            bin_edges: array<float64>, \n",
      "            bin_freq: array<int64>, \n",
      "            n_smaller: int64, \n",
      "            n_larger: int64\n",
      "        }\n",
      "    } \n",
      "    'popmax': struct {\n",
      "        AC: int32, \n",
      "        AF: float64, \n",
      "        AN: int32, \n",
      "        homozygote_count: int32, \n",
      "        pop: str, \n",
      "        faf95: float64\n",
      "    } \n",
      "    'qual_hists': struct {\n",
      "        gq_hist_all: struct {\n",
      "            bin_edges: array<float64>, \n",
      "            bin_freq: array<int64>, \n",
      "            n_smaller: int64, \n",
      "            n_larger: int64\n",
      "        }, \n",
      "        dp_hist_all: struct {\n",
      "            bin_edges: array<float64>, \n",
      "            bin_freq: array<int64>, \n",
      "            n_smaller: int64, \n",
      "            n_larger: int64\n",
      "        }, \n",
      "        gq_hist_alt: struct {\n",
      "            bin_edges: array<float64>, \n",
      "            bin_freq: array<int64>, \n",
      "            n_smaller: int64, \n",
      "            n_larger: int64\n",
      "        }, \n",
      "        dp_hist_alt: struct {\n",
      "            bin_edges: array<float64>, \n",
      "            bin_freq: array<int64>, \n",
      "            n_smaller: int64, \n",
      "            n_larger: int64\n",
      "        }, \n",
      "        ab_hist_alt: struct {\n",
      "            bin_edges: array<float64>, \n",
      "            bin_freq: array<int64>, \n",
      "            n_smaller: int64, \n",
      "            n_larger: int64\n",
      "        }\n",
      "    } \n",
      "    'faf': array<struct {\n",
      "        faf95: float64, \n",
      "        faf99: float64\n",
      "    }> \n",
      "    'a_index': int32 \n",
      "    'was_split': bool \n",
      "    'rsid': set<str> \n",
      "    'filters': set<str> \n",
      "    'info': struct {\n",
      "        QUALapprox: int64, \n",
      "        SB: array<int32>, \n",
      "        MQ: float64, \n",
      "        MQRankSum: float64, \n",
      "        VarDP: int32, \n",
      "        AS_ReadPosRankSum: float64, \n",
      "        AS_pab_max: float64, \n",
      "        AS_QD: float32, \n",
      "        AS_MQ: float64, \n",
      "        QD: float32, \n",
      "        AS_MQRankSum: float64, \n",
      "        FS: float64, \n",
      "        AS_FS: float64, \n",
      "        ReadPosRankSum: float64, \n",
      "        AS_QUALapprox: int64, \n",
      "        AS_SB_TABLE: array<int32>, \n",
      "        AS_VarDP: int32, \n",
      "        AS_SOR: float64, \n",
      "        SOR: float64, \n",
      "        singleton: bool, \n",
      "        transmitted_singleton: bool, \n",
      "        omni: bool, \n",
      "        mills: bool, \n",
      "        monoallelic: bool, \n",
      "        AS_VQSLOD: float64, \n",
      "        InbreedingCoeff: float64\n",
      "    } \n",
      "    'vep': struct {\n",
      "        assembly_name: str, \n",
      "        allele_string: str, \n",
      "        ancestral: str, \n",
      "        context: str, \n",
      "        end: int32, \n",
      "        id: str, \n",
      "        input: str, \n",
      "        intergenic_consequences: array<struct {\n",
      "            allele_num: int32, \n",
      "            consequence_terms: array<str>, \n",
      "            impact: str, \n",
      "            minimised: int32, \n",
      "            variant_allele: str\n",
      "        }>, \n",
      "        most_severe_consequence: str, \n",
      "        motif_feature_consequences: array<struct {\n",
      "            allele_num: int32, \n",
      "            consequence_terms: array<str>, \n",
      "            high_inf_pos: str, \n",
      "            impact: str, \n",
      "            minimised: int32, \n",
      "            motif_feature_id: str, \n",
      "            motif_name: str, \n",
      "            motif_pos: int32, \n",
      "            motif_score_change: float64, \n",
      "            strand: int32, \n",
      "            variant_allele: str\n",
      "        }>, \n",
      "        regulatory_feature_consequences: array<struct {\n",
      "            allele_num: int32, \n",
      "            biotype: str, \n",
      "            consequence_terms: array<str>, \n",
      "            impact: str, \n",
      "            minimised: int32, \n",
      "            regulatory_feature_id: str, \n",
      "            variant_allele: str\n",
      "        }>, \n",
      "        seq_region_name: str, \n",
      "        start: int32, \n",
      "        strand: int32, \n",
      "        transcript_consequences: array<struct {\n",
      "            allele_num: int32, \n",
      "            amino_acids: str, \n",
      "            appris: str, \n",
      "            biotype: str, \n",
      "            canonical: int32, \n",
      "            ccds: str, \n",
      "            cdna_start: int32, \n",
      "            cdna_end: int32, \n",
      "            cds_end: int32, \n",
      "            cds_start: int32, \n",
      "            codons: str, \n",
      "            consequence_terms: array<str>, \n",
      "            distance: int32, \n",
      "            domains: array<struct {\n",
      "                db: str, \n",
      "                name: str\n",
      "            }>, \n",
      "            exon: str, \n",
      "            gene_id: str, \n",
      "            gene_pheno: int32, \n",
      "            gene_symbol: str, \n",
      "            gene_symbol_source: str, \n",
      "            hgnc_id: str, \n",
      "            hgvsc: str, \n",
      "            hgvsp: str, \n",
      "            hgvs_offset: int32, \n",
      "            impact: str, \n",
      "            intron: str, \n",
      "            lof: str, \n",
      "            lof_flags: str, \n",
      "            lof_filter: str, \n",
      "            lof_info: str, \n",
      "            minimised: int32, \n",
      "            polyphen_prediction: str, \n",
      "            polyphen_score: float64, \n",
      "            protein_end: int32, \n",
      "            protein_start: int32, \n",
      "            protein_id: str, \n",
      "            sift_prediction: str, \n",
      "            sift_score: float64, \n",
      "            strand: int32, \n",
      "            swissprot: str, \n",
      "            transcript_id: str, \n",
      "            trembl: str, \n",
      "            tsl: int32, \n",
      "            uniparc: str, \n",
      "            variant_allele: str\n",
      "        }>, \n",
      "        variant_class: str\n",
      "    } \n",
      "    'vqsr': struct {\n",
      "        AS_VQSLOD: float64, \n",
      "        AS_culprit: str, \n",
      "        NEGATIVE_TRAIN_SITE: bool, \n",
      "        POSITIVE_TRAIN_SITE: bool\n",
      "    } \n",
      "    'region_flag': struct {\n",
      "        lcr: bool, \n",
      "        segdup: bool\n",
      "    } \n",
      "    'allele_info': struct {\n",
      "        variant_type: str, \n",
      "        allele_type: str, \n",
      "        n_alt_alleles: int32, \n",
      "        was_mixed: bool\n",
      "    } \n",
      "    'age_hist_het': struct {\n",
      "        bin_edges: array<float64>, \n",
      "        bin_freq: array<int64>, \n",
      "        n_smaller: int64, \n",
      "        n_larger: int64\n",
      "    } \n",
      "    'age_hist_hom': struct {\n",
      "        bin_edges: array<float64>, \n",
      "        bin_freq: array<int64>, \n",
      "        n_smaller: int64, \n",
      "        n_larger: int64\n",
      "    } \n",
      "    'cadd': struct {\n",
      "        phred: float32, \n",
      "        raw_score: float32, \n",
      "        has_duplicate: bool\n",
      "    } \n",
      "    'revel': struct {\n",
      "        revel_score: float64, \n",
      "        has_duplicate: bool\n",
      "    } \n",
      "    'splice_ai': struct {\n",
      "        splice_ai_score: float32, \n",
      "        splice_consequence: str, \n",
      "        has_duplicate: bool\n",
      "    } \n",
      "    'primate_ai': struct {\n",
      "        primate_ai_score: float32, \n",
      "        has_duplicate: bool\n",
      "    } \n",
      "----------------------------------------\n",
      "Key: ['locus', 'alleles']\n",
      "----------------------------------------\n"
     ]
    }
   ],
   "source": [
    "ht.describe()"
   ]
  },
  {
   "cell_type": "code",
   "execution_count": 5,
   "id": "b6e7f068",
   "metadata": {},
   "outputs": [
    {
     "name": "stderr",
     "output_type": "stream",
     "text": [
      "[Stage 0:================================================>        (12 + 2) / 14]\r"
     ]
    },
    {
     "data": {
      "text/plain": [
       "frozendict({'3_prime_UTR_variant': 692, '5_prime_UTR_variant': 5, 'downstream_gene_variant': 4308, 'frameshift_variant': 14, 'inframe_insertion': 1, 'intergenic_variant': 5365, 'intron_variant': 65324, 'mature_miRNA_variant': 51, 'missense_variant': 256, 'non_coding_transcript_exon_variant': 16198, 'regulatory_region_variant': 99, 'splice_acceptor_variant': 56, 'splice_donor_variant': 83, 'splice_region_variant': 548, 'start_lost': 3, 'stop_gained': 7, 'stop_lost': 1, 'synonymous_variant': 103, 'upstream_gene_variant': 6886})"
      ]
     },
     "execution_count": 5,
     "metadata": {},
     "output_type": "execute_result"
    }
   ],
   "source": [
    "ht.aggregate(hl.agg.counter(ht.vep.most_severe_consequence))"
   ]
  }
 ],
 "metadata": {
  "kernelspec": {
   "display_name": "Python 3 (ipykernel)",
   "language": "python",
   "name": "python3"
  },
  "language_info": {
   "codemirror_mode": {
    "name": "ipython",
    "version": 3
   },
   "file_extension": ".py",
   "mimetype": "text/x-python",
   "name": "python",
   "nbconvert_exporter": "python",
   "pygments_lexer": "ipython3",
   "version": "3.10.4"
  }
 },
 "nbformat": 4,
 "nbformat_minor": 5
}
