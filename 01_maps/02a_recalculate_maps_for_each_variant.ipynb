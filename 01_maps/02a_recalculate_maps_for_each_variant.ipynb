{
 "cells": [
  {
   "cell_type": "markdown",
   "id": "1cc3a62b",
   "metadata": {},
   "source": [
    "## 1. Import packages"
   ]
  },
  {
   "cell_type": "code",
   "execution_count": 1,
   "id": "0c5f8d81",
   "metadata": {},
   "outputs": [],
   "source": [
    "# Import packages\n",
    "import hail as hl\n",
    "from bokeh.io import output_notebook,show\n",
    "import gnomad.utils.vep\n",
    "from hail.ggplot import *\n",
    "import plotly\n",
    "import plotly.io as pio\n",
    "pio.renderers.default='iframe'"
   ]
  },
  {
   "cell_type": "code",
   "execution_count": 2,
   "id": "6c8dd3af",
   "metadata": {},
   "outputs": [],
   "source": [
    "%run -i ~/BroadIS/utils/01_maps_funcs.py"
   ]
  },
  {
   "cell_type": "markdown",
   "id": "0ec77f44",
   "metadata": {},
   "source": [
    "## 2. Import data"
   ]
  },
  {
   "cell_type": "code",
   "execution_count": null,
   "id": "7c551327",
   "metadata": {
    "scrolled": false
   },
   "outputs": [
    {
     "name": "stderr",
     "output_type": "stream",
     "text": [
      "Initializing Hail with default parameters...\n"
     ]
    }
   ],
   "source": [
    "# Import gnomaAD v.3.1.2\n",
    "ht = hl.read_table('gs://gcp-public-data--gnomad/release/3.1.2/ht/genomes/gnomad.genomes.v3.1.2.sites.ht')\n",
    "\n",
    "# Import mutation rates from gnomAD paper\n",
    "ht_mu = hl.import_table('data/supplementary_dataset_10_mutation_rates.tsv.gz',\n",
    "                delimiter='\\t', impute=True, force_bgz=True)\n",
    "ht_mu = ht_mu.key_by('context', 'ref', 'alt', 'methylation_level') # has to have a key in order to join using foreign key\n",
    "\n",
    "# Import context table from gnomad (https://broadinstitute.github.io/gnomad_methods/api_reference/utils/vep.html?highlight=context#gnomad.utils.vep.get_vep_context)\n",
    "context_table = gnomad.utils.vep.get_vep_context(\"GRCh38\").ht()\n",
    "context_table = context_table.filter(hl.is_defined(context_table.methyl_mean))\n",
    "\n",
    "\n",
    "context_table_parsed = context_table.select(context_table.context, context_table.methyl_mean)\n",
    "context_table_parsed = context_table_parsed.transmute(context = context_table_parsed.context[2:5])"
   ]
  },
  {
   "cell_type": "code",
   "execution_count": null,
   "id": "05439aaa",
   "metadata": {},
   "outputs": [],
   "source": [
    "context_table_parsed = context_table_parsed.annotate(methyl_mean = hl.float64(context_table_parsed.methyl_mean))"
   ]
  },
  {
   "cell_type": "code",
   "execution_count": null,
   "id": "5c4f5319",
   "metadata": {},
   "outputs": [],
   "source": [
    "context_table_parsed = context_table_parsed.annotate(methylation_level = hl.if_else(context_table_parsed.methyl_mean <= 0.2,0,\n",
    "                                                            hl.if_else(context_table_parsed.methyl_mean <= 0.8,1,2)))"
   ]
  },
  {
   "cell_type": "markdown",
   "id": "a6ac9427",
   "metadata": {},
   "source": [
    "### Show the data structure"
   ]
  },
  {
   "cell_type": "code",
   "execution_count": null,
   "id": "f63e6d4a",
   "metadata": {},
   "outputs": [],
   "source": [
    "ht.show(3)"
   ]
  },
  {
   "cell_type": "code",
   "execution_count": null,
   "id": "47edc9f8",
   "metadata": {},
   "outputs": [],
   "source": [
    "# Table with methylation level and mutational rate in the trinucleotide context\n",
    "ht_mu.show(3)"
   ]
  },
  {
   "cell_type": "code",
   "execution_count": null,
   "id": "8f6b577c",
   "metadata": {},
   "outputs": [],
   "source": [
    "# This table contains already precalculated nucleotides -3/+3 from mutation site \n",
    "context_table_parsed.show(3)"
   ]
  },
  {
   "cell_type": "markdown",
   "id": "1f7fb149",
   "metadata": {},
   "source": [
    "## 3. Add context field to main data"
   ]
  },
  {
   "cell_type": "code",
   "execution_count": null,
   "id": "d36d5722",
   "metadata": {},
   "outputs": [],
   "source": [
    "# Before joining the tri-nucleotide context of mutation\n",
    "ht.count() # data too big"
   ]
  },
  {
   "cell_type": "code",
   "execution_count": null,
   "id": "97825e1d",
   "metadata": {},
   "outputs": [],
   "source": [
    "# Join only matching rows from context to ht table.\n",
    "#ht = ht.key_by('locus', 'alleles').join(context_table_parsed.key_by('locus', 'alleles'), how = 'left') # resorts the data making it slow\n",
    "ht = ht.annotate(**context_table_parsed[ht.locus, ht.alleles])\n"
   ]
  },
  {
   "cell_type": "code",
   "execution_count": null,
   "id": "3d5a3827",
   "metadata": {},
   "outputs": [],
   "source": [
    "# After\n",
    "ht.count() # data too big"
   ]
  },
  {
   "cell_type": "code",
   "execution_count": null,
   "id": "fec4c5c1",
   "metadata": {},
   "outputs": [],
   "source": [
    "ht = ht.filter(hl.is_defined(ht.methylation_level))\n",
    "ht = ht.head(10000) # Subset the data\n",
    "\n",
    "ht.show(3)"
   ]
  },
  {
   "cell_type": "markdown",
   "id": "4fba954f",
   "metadata": {},
   "source": [
    "## 4. Add mutation rates for added contexts"
   ]
  },
  {
   "cell_type": "code",
   "execution_count": null,
   "id": "009ebb59",
   "metadata": {},
   "outputs": [],
   "source": [
    "# Split alleles field to ref and alt allele\n",
    "ht = ht.annotate(ref=ht.alleles[0], alt=ht.alleles[1])\n",
    "\n",
    "# Add mutation rates according to the context, but also ref and alt allele for this context\n",
    "#ht = ht.key_by(\"context\", \"ref\", \"alt\").join(ht_mu.key_by(\"context\", \"ref\", \"alt\"), how = 'left') # resorts the data making it slow\n",
    "ht = ht.annotate(**ht_mu[ht.context, ht.ref, ht.alt, ht.methylation_level])\n"
   ]
  },
  {
   "cell_type": "code",
   "execution_count": null,
   "id": "02c57a73",
   "metadata": {},
   "outputs": [],
   "source": [
    "# After adding context and mutation rates to the main table \n",
    "# (can be more than original number of rows as context may occure more than once depending on the locus)\n",
    "ht.count()"
   ]
  },
  {
   "cell_type": "code",
   "execution_count": null,
   "id": "8fdfe108",
   "metadata": {
    "scrolled": false
   },
   "outputs": [],
   "source": [
    "# Show that contexts may be the same, but locus is completely different\n",
    "ht.show(3)"
   ]
  },
  {
   "cell_type": "markdown",
   "id": "c9f2a5cd",
   "metadata": {},
   "source": [
    "## 5. Train linear model on synonymous variants for mutational class correction"
   ]
  },
  {
   "cell_type": "code",
   "execution_count": null,
   "id": "73b33485",
   "metadata": {},
   "outputs": [],
   "source": [
    "ht_syn_ps = train_on_synonymous(ht)"
   ]
  },
  {
   "cell_type": "code",
   "execution_count": null,
   "id": "e042910c",
   "metadata": {},
   "outputs": [],
   "source": [
    "ht_syn_ps.show(3)"
   ]
  },
  {
   "cell_type": "markdown",
   "id": "1ae3f5bb",
   "metadata": {},
   "source": [
    "### Show input table for regression"
   ]
  },
  {
   "cell_type": "code",
   "execution_count": null,
   "id": "c8cc58bf",
   "metadata": {
    "scrolled": false
   },
   "outputs": [],
   "source": [
    "# How many rows after adding mutation rates\n",
    "ht_syn_ps.count()"
   ]
  },
  {
   "cell_type": "markdown",
   "id": "7214613c",
   "metadata": {},
   "source": [
    "### Perform regression"
   ]
  },
  {
   "cell_type": "code",
   "execution_count": null,
   "id": "4e645632",
   "metadata": {},
   "outputs": [],
   "source": [
    "# Perform regression\n",
    "ht_syn_lm = ht_syn_ps.aggregate(hl.agg.linreg(ht_syn_ps.ps, [1, ht_syn_ps.mu_snp], weight=ht_syn_ps.N_variants).beta)\n",
    "\n",
    "# Show intercept and beta\n",
    "ht_syn_lm"
   ]
  },
  {
   "cell_type": "markdown",
   "id": "79e8d17c",
   "metadata": {},
   "source": [
    "## 6. Predict expected number of variants for each context\n",
    "\n",
    "### Function for regression eventually will be made starting here and put in `/utils/utils.py` script"
   ]
  },
  {
   "cell_type": "code",
   "execution_count": null,
   "id": "8f0696e8",
   "metadata": {},
   "outputs": [],
   "source": [
    "maps_table = regress_per_context(ht, ht_syn_lm)"
   ]
  },
  {
   "cell_type": "code",
   "execution_count": null,
   "id": "f76517cd",
   "metadata": {},
   "outputs": [],
   "source": [
    "maps_table.show(maps_table.count())"
   ]
  },
  {
   "cell_type": "code",
   "execution_count": null,
   "id": "a7e58839",
   "metadata": {},
   "outputs": [],
   "source": [
    "ggplot(maps_table, aes(x=maps_table.consequence, y = maps_table.maps)) + geom_col(aes(fill=maps_table.consequence))\n"
   ]
  },
  {
   "cell_type": "code",
   "execution_count": null,
   "id": "9f0bf11f",
   "metadata": {},
   "outputs": [],
   "source": []
  }
 ],
 "metadata": {
  "kernelspec": {
   "display_name": "Python 3 (ipykernel)",
   "language": "python",
   "name": "python3"
  },
  "language_info": {
   "codemirror_mode": {
    "name": "ipython",
    "version": 3
   },
   "file_extension": ".py",
   "mimetype": "text/x-python",
   "name": "python",
   "nbconvert_exporter": "python",
   "pygments_lexer": "ipython3",
   "version": "3.10.4"
  }
 },
 "nbformat": 4,
 "nbformat_minor": 5
}
